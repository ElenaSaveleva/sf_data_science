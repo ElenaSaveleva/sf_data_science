{
  "nbformat": 4,
  "nbformat_minor": 0,
  "metadata": {
    "colab": {
      "provenance": [],
      "authorship_tag": "ABX9TyOy7F6yiBD7KEbHnJzWczEi",
      "include_colab_link": true
    },
    "kernelspec": {
      "name": "python3",
      "display_name": "Python 3"
    },
    "language_info": {
      "name": "python"
    }
  },
  "cells": [
    {
      "cell_type": "markdown",
      "metadata": {
        "id": "view-in-github",
        "colab_type": "text"
      },
      "source": [
        "<a href=\"https://colab.research.google.com/github/ElenaSaveleva/sf_data_science/blob/main/Play0.ipynb\" target=\"_parent\"><img src=\"https://colab.research.google.com/assets/colab-badge.svg\" alt=\"Open In Colab\"/></a>"
      ]
    },
    {
      "cell_type": "code",
      "execution_count": 1,
      "metadata": {
        "colab": {
          "base_uri": "https://localhost:8080/"
        },
        "id": "A4PunGQicdTy",
        "outputId": "f8dff169-556b-4c3f-98d3-86907cde3074"
      },
      "outputs": [
        {
          "output_type": "stream",
          "name": "stdout",
          "text": [
            "Компьютер угадал число за 5 попыток. Это число 10\n"
          ]
        }
      ],
      "source": [
        "'''Игра компьютер угадает число меньше чем за 20 попыток'''\n",
        "\n",
        "import numpy as np\n",
        "\n",
        "\n",
        "    \n",
        "min = 1\n",
        "max = 101\n",
        "\n",
        "number = np.random.randint(min, max)\n",
        "#number = 997\n",
        "count = 0\n",
        "\n",
        "while True:\n",
        "    count+=1\n",
        "    mid = int((min+max) / 2)\n",
        "    \n",
        "    if mid > number:\n",
        "        max = mid\n",
        "    \n",
        "    elif mid < number:\n",
        "        min = mid\n",
        "\n",
        "    else:\n",
        "        print(f\"Компьютер угадал число за {count} попыток. Это число {number}\")\n",
        "        break #конец игры выход из цикла"
      ]
    }
  ]
}